{
 "cells": [
  {
   "cell_type": "markdown",
   "metadata": {},
   "source": [
    "## Mango Db with Python- Querying Json Documents"
   ]
  },
  {
   "cell_type": "code",
   "execution_count": 1,
   "metadata": {},
   "outputs": [],
   "source": [
    "import pymongo\n",
    "\n",
    "client=pymongo.MongoClient('mongodb://127.0.0.1:27017/')\n",
    "\n",
    "mydb=client['Employee']\n",
    "empinfo=mydb.employeeinformation"
   ]
  },
  {
   "cell_type": "code",
   "execution_count": 4,
   "metadata": {},
   "outputs": [
    {
     "data": {
      "text/plain": [
       "InsertOneResult(ObjectId('66e90da06a3698c2f5305673'), acknowledged=True)"
      ]
     },
     "execution_count": 4,
     "metadata": {},
     "output_type": "execute_result"
    }
   ],
   "source": [
    "record={\n",
    "        'firstname':'Ku45rish',\n",
    "        'lastname':'Naifgk',\n",
    "        'department':'Analfgytics',\n",
    "        'qualification':'BfgE',\n",
    "        'age':269\n",
    "        }\n",
    "empinfo.insert_one(record)"
   ]
  },
  {
   "cell_type": "code",
   "execution_count": 5,
   "metadata": {},
   "outputs": [],
   "source": [
    "records=[{\n",
    "        'firstname':'John',\n",
    "        'lastname':'Doe',\n",
    "        'department':'Analytics',\n",
    "        'qualification':'statistics',\n",
    "        'age':35\n",
    "        \n",
    "        },\n",
    "         {\n",
    "        'firstname':'John ',\n",
    "        'lastname':'Smith',\n",
    "        'department':'Analytics',\n",
    "        'qualification':'masters',\n",
    "        'age':30\n",
    "        \n",
    "        },\n",
    "        {\n",
    "        'firstname':'Manish',\n",
    "        'lastname':'Sen',\n",
    "        'department':'Analytics',\n",
    "        'qualification':'phd',\n",
    "        'age':34\n",
    "        \n",
    "        },\n",
    "        {\n",
    "        'firstname':'Ram',\n",
    "        'lastname':'Singh',\n",
    "        'department':'Analytics',\n",
    "        'qualification':'master',\n",
    "        'age':32\n",
    "        \n",
    "        }]"
   ]
  },
  {
   "cell_type": "code",
   "execution_count": 6,
   "metadata": {},
   "outputs": [
    {
     "data": {
      "text/plain": [
       "InsertManyResult([ObjectId('66e90dc76a3698c2f5305674'), ObjectId('66e90dc76a3698c2f5305675'), ObjectId('66e90dc76a3698c2f5305676'), ObjectId('66e90dc76a3698c2f5305677')], acknowledged=True)"
      ]
     },
     "execution_count": 6,
     "metadata": {},
     "output_type": "execute_result"
    }
   ],
   "source": [
    "empinfo.insert_many(records)"
   ]
  },
  {
   "cell_type": "code",
   "execution_count": 8,
   "metadata": {},
   "outputs": [
    {
     "data": {
      "text/plain": [
       "{'_id': ObjectId('66e86b38c420c5366a10db23'),\n",
       " 'firstname': 'Sundar',\n",
       " 'age': 11,\n",
       " 'dept': 'Boss'}"
      ]
     },
     "execution_count": 8,
     "metadata": {},
     "output_type": "execute_result"
    }
   ],
   "source": [
    "## Simple way of querying\n",
    "empinfo.find_one()"
   ]
  },
  {
   "cell_type": "code",
   "execution_count": 9,
   "metadata": {},
   "outputs": [
    {
     "name": "stdout",
     "output_type": "stream",
     "text": [
      "{'_id': ObjectId('66e86b38c420c5366a10db23'), 'firstname': 'Sundar', 'age': 11, 'dept': 'Boss'}\n",
      "{'_id': ObjectId('66e90d726a3698c2f5305671'), 'firstname': 'Krish', 'lastname': 'Naik', 'department': 'Analytics', 'qualification': 'BE', 'age': 29}\n",
      "{'_id': ObjectId('66e90d7e6a3698c2f5305672'), 'firstname': 'Kurish', 'lastname': 'Naik', 'department': 'Analytics', 'qualification': 'BE', 'age': 29}\n",
      "{'_id': ObjectId('66e90da06a3698c2f5305673'), 'firstname': 'Ku45rish', 'lastname': 'Naifgk', 'department': 'Analfgytics', 'qualification': 'BfgE', 'age': 269}\n",
      "{'_id': ObjectId('66e90dc76a3698c2f5305674'), 'firstname': 'John', 'lastname': 'Doe', 'department': 'Analytics', 'qualification': 'statistics', 'age': 35}\n",
      "{'_id': ObjectId('66e90dc76a3698c2f5305675'), 'firstname': 'John ', 'lastname': 'Smith', 'department': 'Analytics', 'qualification': 'masters', 'age': 30}\n",
      "{'_id': ObjectId('66e90dc76a3698c2f5305676'), 'firstname': 'Manish', 'lastname': 'Sen', 'department': 'Analytics', 'qualification': 'phd', 'age': 34}\n",
      "{'_id': ObjectId('66e90dc76a3698c2f5305677'), 'firstname': 'Ram', 'lastname': 'Singh', 'department': 'Analytics', 'qualification': 'master', 'age': 32}\n"
     ]
    }
   ],
   "source": [
    "## Select * from employeeinformation\n",
    "for record in empinfo.find({}):\n",
    "    print(record)"
   ]
  },
  {
   "cell_type": "code",
   "execution_count": 11,
   "metadata": {},
   "outputs": [
    {
     "name": "stdout",
     "output_type": "stream",
     "text": [
      "{'_id': ObjectId('66e86b38c420c5366a10db23'), 'firstname': 'Sundar', 'age': 11, 'dept': 'Boss'}\n"
     ]
    }
   ],
   "source": [
    "## Query the json documents based on equality conditions\n",
    "# Select * from employeeinformation where firstname=krish\n",
    "\n",
    "for record in empinfo.find({'firstname':'Sundar'}):\n",
    "    print(record)\n"
   ]
  },
  {
   "cell_type": "code",
   "execution_count": 24,
   "metadata": {},
   "outputs": [
    {
     "name": "stdout",
     "output_type": "stream",
     "text": [
      "{'_id': ObjectId('66e90d726a3698c2f5305671'), 'firstname': 'Krish', 'lastname': 'Naik', 'department': 'Analytics', 'qualification': 'BE', 'age': 29}\n",
      "{'_id': ObjectId('66e90d7e6a3698c2f5305672'), 'firstname': 'Kurish', 'lastname': 'Naik', 'department': 'Analytics', 'qualification': 'BE', 'age': 29}\n",
      "{'_id': ObjectId('66e90dc76a3698c2f5305676'), 'firstname': 'Manish', 'lastname': 'Sen', 'department': 'Analytics', 'qualification': 'phd', 'age': 34}\n",
      "{'_id': ObjectId('66e90dc76a3698c2f5305677'), 'firstname': 'Ram', 'lastname': 'Singh', 'department': 'Analytics', 'qualification': 'master', 'age': 32}\n"
     ]
    }
   ],
   "source": [
    "## Query documents using query operators($in,$lt,$gt)\n",
    "for record in empinfo.find({'qualification':{'$in':['phd','master','BE']}}):\n",
    "    print(record)"
   ]
  },
  {
   "cell_type": "code",
   "execution_count": 16,
   "metadata": {},
   "outputs": [
    {
     "name": "stdout",
     "output_type": "stream",
     "text": [
      "{'_id': ObjectId('66e90dc76a3698c2f5305677'), 'firstname': 'Ram', 'lastname': 'Singh', 'department': 'Analytics', 'qualification': 'master', 'age': 32}\n"
     ]
    }
   ],
   "source": [
    "## And and Query operators\n",
    "for record in empinfo.find({'qualification':'master','age':{'$lt':35}}):\n",
    "    print(record)"
   ]
  },
  {
   "cell_type": "code",
   "execution_count": 28,
   "metadata": {},
   "outputs": [
    {
     "name": "stdout",
     "output_type": "stream",
     "text": [
      "{'_id': ObjectId('66e90d726a3698c2f5305671'), 'firstname': 'Krish', 'lastname': 'Naik', 'department': 'Analytics', 'qualification': 'BE', 'age': 29}\n",
      "{'_id': ObjectId('66e90d7e6a3698c2f5305672'), 'firstname': 'Kurish', 'lastname': 'Naik', 'department': 'Analytics', 'qualification': 'BE', 'age': 29}\n"
     ]
    }
   ],
   "source": [
    "## OR operators\n",
    "for record in empinfo.find({'$or':[{'firstname':'Krish'},{'qualification':'BE'}]}):\n",
    "    print(record)"
   ]
  },
  {
   "cell_type": "code",
   "execution_count": 29,
   "metadata": {},
   "outputs": [],
   "source": [
    "inventory=mydb.inventory"
   ]
  },
  {
   "cell_type": "code",
   "execution_count": 30,
   "metadata": {},
   "outputs": [],
   "source": [
    "inventory.insert_many( [\n",
    "   { 'item': \"journal\", 'qty': 25, 'size': { 'h': 14, 'w': 21,'uom': \"cm\" }, 'status': \"A\" },\n",
    "   { 'item': \"notebook\", 'qty': 50,'size': { 'h': 8.5, 'w': 11,'uom': \"in\" },'status': \"A\" },\n",
    "   { 'item': \"paper\", 'qty': 100, 'size': { 'h': 8.5, 'w': 11,'uom': \"in\" },'status': \"D\" },\n",
    "   { 'item': \"planner\", 'qty': 75, 'size': { 'h': 22.85,'w': 30,'uom': \"cm\" },'status': \"D\" },\n",
    "   { 'item': \"postcard\", 'qty': 45, 'size': { 'h': 10, 'w': 15.25,'uom': \"cm\" },'status': \"A\" }\n",
    "]);\n",
    "    "
   ]
  },
  {
   "cell_type": "code",
   "execution_count": 31,
   "metadata": {},
   "outputs": [
    {
     "name": "stdout",
     "output_type": "stream",
     "text": [
      "{'_id': ObjectId('66e9106a6a3698c2f5305678'), 'item': 'journal', 'qty': 25, 'size': {'h': 14, 'w': 21, 'uom': 'cm'}, 'status': 'A'}\n",
      "{'_id': ObjectId('66e91eda6a3698c2f530567d'), 'item': 'journal', 'qty': 25, 'size': {'h': 14, 'w': 21, 'uom': 'cm'}, 'status': 'A'}\n",
      "{'_id': ObjectId('66e91ee36a3698c2f5305682'), 'item': 'journal', 'qty': 25, 'size': {'h': 14, 'w': 21, 'uom': 'cm'}, 'status': 'A'}\n",
      "{'_id': ObjectId('66e93a266a3698c2f5305687'), 'item': 'journal', 'qty': 25, 'size': {'h': 14, 'w': 21, 'uom': 'cm'}, 'status': 'A'}\n",
      "{'_id': ObjectId('66e93ad56a3698c2f530568c'), 'item': 'journal', 'qty': 25, 'size': {'h': 14, 'w': 21, 'uom': 'cm'}, 'status': 'A'}\n"
     ]
    }
   ],
   "source": [
    "for records in inventory.find({'size': { 'h': 14, 'w': 21,'uom': \"cm\" }}):\n",
    "    print(records)"
   ]
  },
  {
   "cell_type": "code",
   "execution_count": null,
   "metadata": {},
   "outputs": [],
   "source": []
  },
  {
   "cell_type": "code",
   "execution_count": null,
   "metadata": {},
   "outputs": [],
   "source": []
  },
  {
   "cell_type": "code",
   "execution_count": null,
   "metadata": {},
   "outputs": [],
   "source": []
  },
  {
   "cell_type": "code",
   "execution_count": null,
   "metadata": {},
   "outputs": [],
   "source": []
  },
  {
   "cell_type": "code",
   "execution_count": null,
   "metadata": {},
   "outputs": [],
   "source": []
  },
  {
   "cell_type": "code",
   "execution_count": null,
   "metadata": {},
   "outputs": [],
   "source": []
  },
  {
   "cell_type": "code",
   "execution_count": null,
   "metadata": {},
   "outputs": [],
   "source": []
  }
 ],
 "metadata": {
  "kernelspec": {
   "display_name": "Python 3 (ipykernel)",
   "language": "python",
   "name": "python3"
  },
  "language_info": {
   "codemirror_mode": {
    "name": "ipython",
    "version": 3
   },
   "file_extension": ".py",
   "mimetype": "text/x-python",
   "name": "python",
   "nbconvert_exporter": "python",
   "pygments_lexer": "ipython3",
   "version": "3.12.4"
  }
 },
 "nbformat": 4,
 "nbformat_minor": 4
}
