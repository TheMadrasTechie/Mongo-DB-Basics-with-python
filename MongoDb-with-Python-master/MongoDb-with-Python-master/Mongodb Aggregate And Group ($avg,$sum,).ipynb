{
 "cells": [
  {
   "cell_type": "markdown",
   "metadata": {},
   "source": [
    "### Mongodb Aggregate And Group\n",
    "1. avg\n",
    "2. sum\n",
    "3. project"
   ]
  },
  {
   "cell_type": "code",
   "execution_count": 4,
   "metadata": {},
   "outputs": [
    {
     "data": {
      "text/plain": [
       "InsertManyResult([ObjectId('66e9b6edf2c10c4ec9568f31'), ObjectId('66e9b6edf2c10c4ec9568f32'), ObjectId('66e9b6edf2c10c4ec9568f33'), ObjectId('66e9b6edf2c10c4ec9568f34'), ObjectId('66e9b6edf2c10c4ec9568f35'), ObjectId('66e9b6edf2c10c4ec9568f36')], acknowledged=True)"
      ]
     },
     "execution_count": 4,
     "metadata": {},
     "output_type": "execute_result"
    }
   ],
   "source": [
    "from pymongo import MongoClient  \n",
    "    \n",
    "# creation of object MongoClient  \n",
    "client=MongoClient()  \n",
    "    \n",
    "# Connect with the portnumber and host  \n",
    "client = MongoClient(\"mongodb://localhost:27017/\")  \n",
    "    \n",
    "# Access database  \n",
    "mydatabase = client['Students']  \n",
    "    \n",
    "# Access collection of the database  \n",
    "collection=mydatabase['studentscores']  \n",
    "data = [ \n",
    "    {\"user\":\"Krish\", \"subject\":\"Database\", \"score\":80}, \n",
    "    {\"user\":\"Amit\",  \"subject\":\"JavaScript\", \"score\":90}, \n",
    "    {\"user\":\"Amit\",  \"title\":\"Database\", \"score\":85}, \n",
    "    {\"user\":\"Krish\",  \"title\":\"JavaScript\", \"score\":75}, \n",
    "    {\"user\":\"Amit\",  \"title\":\"Data Science\", \"score\":60},\n",
    "    {\"user\":\"Krish\",  \"title\":\"Data Science\", \"score\":95}] \n",
    "  \n",
    "collection.insert_many(data) \n"
   ]
  },
  {
   "cell_type": "code",
   "execution_count": 6,
   "metadata": {},
   "outputs": [],
   "source": [
    "### Find Amit And Krish Total Subjects\n",
    "agg_result= collection.aggregate( \n",
    "    [{ \n",
    "    \"$group\" :  \n",
    "        {\"_id\" : \"$user\",  \n",
    "         \"Total Subject\" : {\"$sum\" : 1} \n",
    "         }} \n",
    "    ]) \n"
   ]
  },
  {
   "cell_type": "code",
   "execution_count": 7,
   "metadata": {},
   "outputs": [
    {
     "name": "stdout",
     "output_type": "stream",
     "text": [
      "{'_id': 'Krish', 'Total Subject': 12}\n",
      "{'_id': 'Amit', 'Total Subject': 12}\n"
     ]
    }
   ],
   "source": [
    "for i in agg_result: \n",
    "    print(i)"
   ]
  },
  {
   "cell_type": "code",
   "execution_count": 8,
   "metadata": {},
   "outputs": [
    {
     "name": "stdout",
     "output_type": "stream",
     "text": [
      "{'_id': 'Krish', 'Total Marks': 1000}\n",
      "{'_id': 'Amit', 'Total Marks': 940}\n"
     ]
    }
   ],
   "source": [
    "### Calculating the total score based on user\n",
    "agg_result= collection.aggregate( \n",
    "    [{ \n",
    "    \"$group\" :  \n",
    "        {\"_id\" : \"$user\",  \n",
    "         \"Total Marks\" : {\"$sum\" :\"$score\"} \n",
    "         }} \n",
    "    ]) \n",
    "for i in agg_result: \n",
    "    print(i)"
   ]
  },
  {
   "cell_type": "code",
   "execution_count": 9,
   "metadata": {},
   "outputs": [
    {
     "name": "stdout",
     "output_type": "stream",
     "text": [
      "{'_id': 'Krish', 'StudentScoreAverage': 83.33333333333333}\n",
      "{'_id': 'Amit', 'StudentScoreAverage': 78.33333333333333}\n"
     ]
    }
   ],
   "source": [
    "### Calculating the average score based on user\n",
    "agg_result=collection.aggregate([\n",
    "   {\n",
    "      \"$group\": {\n",
    "         \"_id\": '$user',\n",
    "         \"StudentScoreAverage\": {\n",
    "            \"$avg\": \"$score\"\n",
    "         }\n",
    "      }\n",
    "   }\n",
    "])\n",
    "for i in agg_result: \n",
    "    print(i)"
   ]
  },
  {
   "cell_type": "code",
   "execution_count": 10,
   "metadata": {},
   "outputs": [],
   "source": [
    "import datetime as datetime"
   ]
  },
  {
   "cell_type": "code",
   "execution_count": 16,
   "metadata": {},
   "outputs": [],
   "source": [
    "### Create a new collection\n",
    "data=[{ \"_id\" : 1, \"item\" : \"abc\", \"price\" : 10, \"quantity\" : 2, \"date\" : datetime.datetime.utcnow()},\n",
    "{ \"_id\" : 2, \"item\" : \"jkl\", \"price\" : 20, \"quantity\" : 1, \"date\" : datetime.datetime.utcnow() },\n",
    "{ \"_id\" : 3, \"item\" : \"xyz\", \"price\" : 5, \"quantity\" : 5, \"date\" : datetime.datetime.utcnow() },\n",
    "{ \"_id\" : 4, \"item\" : \"abc\", \"price\" : 10, \"quantity\" : 10, \"date\" : datetime.datetime.utcnow() },\n",
    "{ \"_id\" : 5, \"item\" : \"xyz\", \"price\" : 5, \"quantity\" : 10, \"date\" :datetime.datetime.utcnow() }]"
   ]
  },
  {
   "cell_type": "code",
   "execution_count": 11,
   "metadata": {},
   "outputs": [
    {
     "data": {
      "text/plain": [
       "[{'user': 'Krish',\n",
       "  'subject': 'Database',\n",
       "  'score': 80,\n",
       "  '_id': ObjectId('66e9b6edf2c10c4ec9568f31')},\n",
       " {'user': 'Amit',\n",
       "  'subject': 'JavaScript',\n",
       "  'score': 90,\n",
       "  '_id': ObjectId('66e9b6edf2c10c4ec9568f32')},\n",
       " {'user': 'Amit',\n",
       "  'title': 'Database',\n",
       "  'score': 85,\n",
       "  '_id': ObjectId('66e9b6edf2c10c4ec9568f33')},\n",
       " {'user': 'Krish',\n",
       "  'title': 'JavaScript',\n",
       "  'score': 75,\n",
       "  '_id': ObjectId('66e9b6edf2c10c4ec9568f34')},\n",
       " {'user': 'Amit',\n",
       "  'title': 'Data Science',\n",
       "  'score': 60,\n",
       "  '_id': ObjectId('66e9b6edf2c10c4ec9568f35')},\n",
       " {'user': 'Krish',\n",
       "  'title': 'Data Science',\n",
       "  'score': 95,\n",
       "  '_id': ObjectId('66e9b6edf2c10c4ec9568f36')}]"
      ]
     },
     "execution_count": 11,
     "metadata": {},
     "output_type": "execute_result"
    }
   ],
   "source": [
    "data"
   ]
  },
  {
   "cell_type": "code",
   "execution_count": 12,
   "metadata": {},
   "outputs": [
    {
     "data": {
      "text/plain": [
       "InsertManyResult([ObjectId('66e9b6edf2c10c4ec9568f31'), ObjectId('66e9b6edf2c10c4ec9568f32'), ObjectId('66e9b6edf2c10c4ec9568f33'), ObjectId('66e9b6edf2c10c4ec9568f34'), ObjectId('66e9b6edf2c10c4ec9568f35'), ObjectId('66e9b6edf2c10c4ec9568f36')], acknowledged=True)"
      ]
     },
     "execution_count": 12,
     "metadata": {},
     "output_type": "execute_result"
    }
   ],
   "source": [
    "mycollection=mydatabase['stores']  \n",
    "mycollection.insert_many(data)"
   ]
  },
  {
   "cell_type": "code",
   "execution_count": 13,
   "metadata": {},
   "outputs": [
    {
     "name": "stdout",
     "output_type": "stream",
     "text": [
      "{'_id': None, 'avgAmount': None, 'avgQuantity': None}\n"
     ]
    }
   ],
   "source": [
    "### Calculating the average quantity And Average Price\n",
    "agg_result=mycollection.aggregate([\n",
    "   {\n",
    "      \"$group\": {\n",
    "         \"_id\": '$item',\n",
    "         \"avgAmount\": {\"$avg\": {\"$multiply\": [ \"$price\", \"$quantity\" ]}},\n",
    "          \"avgQuantity\": { \"$avg\": \"$quantity\" }\n",
    "      }\n",
    "   }\n",
    "])\n",
    "for i in agg_result: \n",
    "    print(i)"
   ]
  },
  {
   "cell_type": "code",
   "execution_count": 14,
   "metadata": {},
   "outputs": [],
   "source": [
    "#### $Project\n",
    "\n",
    "data=[{\n",
    "  \"_id\" : 1,\n",
    "  \"title\": \"abc123\",\n",
    "  \"isbn\": \"0001122223334\",\n",
    "  \"author\": { \"last\": \"zzz\", \"first\": \"aaa\" },\n",
    "  \"copies\": 5\n",
    "},\n",
    "{\n",
    "  \"_id\" : 2,\n",
    "  \"title\": \"Baked Goods\",\n",
    "  \"isbn\": \"9999999999999\",\n",
    "  \"author\": { \"last\": \"xyz\", \"first\": \"abc\", \"middle\": \"\" },\n",
    "  \"copies\": 2\n",
    "}\n",
    "]"
   ]
  },
  {
   "cell_type": "code",
   "execution_count": 15,
   "metadata": {},
   "outputs": [],
   "source": [
    "# Access collection of the database  \n",
    "collection=mydatabase['Books']  "
   ]
  },
  {
   "cell_type": "code",
   "execution_count": 16,
   "metadata": {},
   "outputs": [
    {
     "data": {
      "text/plain": [
       "InsertManyResult([1, 2], acknowledged=True)"
      ]
     },
     "execution_count": 16,
     "metadata": {},
     "output_type": "execute_result"
    }
   ],
   "source": [
    "collection.insert_many(data)"
   ]
  },
  {
   "cell_type": "code",
   "execution_count": 17,
   "metadata": {},
   "outputs": [
    {
     "name": "stdout",
     "output_type": "stream",
     "text": [
      "{'_id': 1, 'title': 'abc123', 'isbn': '0001122223334'}\n",
      "{'_id': 2, 'title': 'Baked Goods', 'isbn': '9999999999999'}\n"
     ]
    }
   ],
   "source": [
    "for row in collection.aggregate( [ { \"$project\": { \"title\": 1,\"isbn\":1 } } ] ):\n",
    "    print(row)"
   ]
  },
  {
   "cell_type": "code",
   "execution_count": null,
   "metadata": {},
   "outputs": [],
   "source": []
  }
 ],
 "metadata": {
  "kernelspec": {
   "display_name": "Python 3 (ipykernel)",
   "language": "python",
   "name": "python3"
  },
  "language_info": {
   "codemirror_mode": {
    "name": "ipython",
    "version": 3
   },
   "file_extension": ".py",
   "mimetype": "text/x-python",
   "name": "python",
   "nbconvert_exporter": "python",
   "pygments_lexer": "ipython3",
   "version": "3.12.4"
  }
 },
 "nbformat": 4,
 "nbformat_minor": 4
}
